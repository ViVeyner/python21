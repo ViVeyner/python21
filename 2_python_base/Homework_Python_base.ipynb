{
 "cells": [
  {
   "cell_type": "markdown",
   "metadata": {},
   "source": [
    "### Задание 1"
   ]
  },
  {
   "cell_type": "markdown",
   "metadata": {},
   "source": [
    "Даны 2 переменных, в которых хранятся строки произвольной длины: phrase_1 и phrase_2. \n",
    "Напишите код, который проверяет какая из этих строк длиннее."
   ]
  },
  {
   "cell_type": "code",
   "execution_count": 36,
   "metadata": {},
   "outputs": [
    {
     "name": "stdout",
     "output_type": "stream",
     "text": [
      "Фразы равной длины\n"
     ]
    }
   ],
   "source": [
    "phrase_1 = 'Насколько проще было бы писать программы, если бы не заказчики'\n",
    "phrase_2 = 'Насколько проще было бы писать программы, если бы не заказчики'\n",
    "\n",
    "if len(phrase_1) > len(phrase_2) : \n",
    "    print ('Фраза 1 длиннее фразы 2') \n",
    "elif len(phrase_1) < len(phrase_2) : \n",
    "    print ('Фраза 2 длиннее фразы 1')\n",
    "else : \n",
    "    print('Фразы равной длины')"
   ]
  },
  {
   "cell_type": "markdown",
   "metadata": {},
   "source": [
    "### Задание 2\n"
   ]
  },
  {
   "cell_type": "markdown",
   "metadata": {},
   "source": [
    "Дана переменная, в которой хранится четырехзначное число (год). \n",
    "Необходимо написать программу, которая выведет, является ли данный год високосным или обычным."
   ]
  },
  {
   "cell_type": "code",
   "execution_count": 45,
   "metadata": {},
   "outputs": [
    {
     "name": "stdout",
     "output_type": "stream",
     "text": [
      "Високосный год\n"
     ]
    }
   ],
   "source": [
    "year=2020\n",
    "\n",
    "if year % 4==0 and year % 100 !=0 or year % 400 ==0: print ('Високосный год')\n",
    "else : print ('Обычный год')"
   ]
  },
  {
   "cell_type": "markdown",
   "metadata": {},
   "source": [
    "### Задание 3"
   ]
  },
  {
   "cell_type": "markdown",
   "metadata": {},
   "source": [
    "Необходимо написать программу, которая будет запрашивать у пользователя месяц и дату рождения и выводить соответствующий знак зодиака."
   ]
  },
  {
   "cell_type": "code",
   "execution_count": 56,
   "metadata": {},
   "outputs": [
    {
     "name": "stdout",
     "output_type": "stream",
     "text": [
      "День вашего рождения: 23\n",
      "Месяц вашего рождения: 2\n",
      "Ваш знак зодиака: Рыбы\n"
     ]
    }
   ],
   "source": [
    "Day=int(input('День вашего рождения: '))\n",
    "Month=int(input('Месяц вашего рождения: '))\n",
    "\n",
    "if (Month==3 and Day >= 20) or (Month==4 and Day<= 19):\n",
    "            print (\"Ваш знак зодиака: Овен\")\n",
    "elif (Month==4 and Day >= 20) or (Month==5 and Day<= 20):\n",
    "            print (\"Ваш знак зодиака: Телец\")\n",
    "elif (Month==5 and Day >= 21) or (Month==6 and Day<= 20):\n",
    "            print (\"Ваш знак зодиака: Близнецы\")\n",
    "elif (Month==6 and Day >= 21) or (Month==7 and Day<= 22):\n",
    "            print (\"Ваш знак зодиака: Рак\")\n",
    "elif (Month==7 and Day >= 23) or (Month==8 and Day<= 22): \n",
    "            print (\"Ваш знак зодиака: Лев\")\n",
    "elif (Month==8 and Day >= 23) or (Month==9 and Day<= 22): \n",
    "            print (\"Ваш знак зодиака: Дева\")\n",
    "elif (Month==9 and Day >= 23) or (Month==10 and Day<= 22):\n",
    "            print (\"Ваш знак зодиака: Весы\")\n",
    "elif (Month==10 and Day >= 23) or (Month==11 and Day<= 21): \n",
    "            print (\"Ваш знак зодиака: Скорпион\")\n",
    "elif (Month==11 and Day >= 22) or (Month==12 and Day<= 21):\n",
    "            print (\"Ваш знак зодиака: Стрелец\")\n",
    "elif (Month==12 and Day>= 22) or (Month==1 and Day<= 19):\n",
    "            print (\"Ваш знак зодиака: Козерог\")\n",
    "elif (Month==1 and Day >= 20) or (Month==2 and Day<= 17):\n",
    "            print (\"Ваш знак зодиака: Водолей\")\n",
    "elif (Month==2 and Day >= 18) or (Month==3 and Day<= 19):\n",
    "            print (\"Ваш знак зодиака: Рыбы\")\n"
   ]
  },
  {
   "cell_type": "markdown",
   "metadata": {},
   "source": [
    "### Задание 4"
   ]
  },
  {
   "cell_type": "markdown",
   "metadata": {},
   "source": [
    "Вам нужно написать программу для подбора упаковок по размерам товара. Размеры (ширина, длина, высота) хранятся в переменных (в сантиметрах):\n",
    "\n",
    "Используйте следующие правила:\n",
    "\n",
    "* если каждое из трех измерений менее 15 сантиметров, то выведите на экран \"Коробка №1\";\n",
    "* если хотя бы одно из измерений больше 15 сантиметров, но менее 50 сантиметров, то выводите \"Коробка №2\";\n",
    "* если длина товара больше 2 метров, то выводите \"Упаковка для лыж\";\n",
    "* во всех остальных случаях выводите \"Стандартная коробка №3\"."
   ]
  },
  {
   "cell_type": "code",
   "execution_count": 60,
   "metadata": {},
   "outputs": [
    {
     "name": "stdout",
     "output_type": "stream",
     "text": [
      "Коробка №2\n"
     ]
    }
   ],
   "source": [
    "lenght=16\n",
    "height=20\n",
    "width=9\n",
    "\n",
    "if lenght<15 and width<15 and height<15 : \n",
    "    print ('Коробка №1') \n",
    "elif (lenght>15 and lenght<50) or (height>15 and height<50) or (width>15 and width<50) : \n",
    "    print ('Коробка №2')\n",
    "elif lenght>200 : \n",
    "    print ('Упаковка для лыж')\n",
    "else : \n",
    "    print ('Стандартная коробка №3')"
   ]
  },
  {
   "cell_type": "markdown",
   "metadata": {},
   "source": [
    "### Задание 5"
   ]
  },
  {
   "cell_type": "markdown",
   "metadata": {},
   "source": [
    "Дана переменная, в которой хранится шестизначное число (номер проездного билета). Напишите программу, которая будет определять, является ли данный билет \"счастливым\". Билет считается счастливым, если сумма первых трех цифр совпадает с суммой последних трех цифр номера."
   ]
  },
  {
   "cell_type": "code",
   "execution_count": 73,
   "metadata": {},
   "outputs": [
    {
     "name": "stdout",
     "output_type": "stream",
     "text": [
      "Счастливый билет\n"
     ]
    }
   ],
   "source": [
    "number = 123321\n",
    "\n",
    "first=number//1000\n",
    "first1=first//100\n",
    "first2=first%100//10\n",
    "first3=first%10\n",
    "\n",
    "second=number%1000\n",
    "second1=second//100\n",
    "second2=second%100//10\n",
    "second3=second%10\n",
    "\n",
    "if first1+first2+first3 == second1+second2+second3 :\n",
    "    print ('Счастливый билет')\n",
    "else :\n",
    "    print ('Несчастливый билет')"
   ]
  },
  {
   "cell_type": "code",
   "execution_count": null,
   "metadata": {},
   "outputs": [],
   "source": []
  }
 ],
 "metadata": {
  "kernelspec": {
   "display_name": "Python 3",
   "language": "python",
   "name": "python3"
  },
  "language_info": {
   "codemirror_mode": {
    "name": "ipython",
    "version": 3
   },
   "file_extension": ".py",
   "mimetype": "text/x-python",
   "name": "python",
   "nbconvert_exporter": "python",
   "pygments_lexer": "ipython3",
   "version": "3.8.5"
  }
 },
 "nbformat": 4,
 "nbformat_minor": 4
}
