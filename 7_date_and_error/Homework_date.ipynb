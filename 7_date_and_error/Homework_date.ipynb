{
 "cells": [
  {
   "cell_type": "markdown",
   "metadata": {},
   "source": [
    "### Задание 1\n"
   ]
  },
  {
   "cell_type": "markdown",
   "metadata": {},
   "source": [
    "Печатные газеты использовали свой формат дат для каждого выпуска. Для каждой газеты из списка напишите формат указанной даты для перевода в объект datetime:\n",
    "- The Moscow Times - Wednesday, October 2, 2002\n",
    "- The Guardian - Friday, 11.10.13\n",
    "- Daily News - Thursday, 18 August 1977"
   ]
  },
  {
   "cell_type": "code",
   "execution_count": 61,
   "metadata": {},
   "outputs": [],
   "source": [
    "from datetime import datetime"
   ]
  },
  {
   "cell_type": "code",
   "execution_count": 62,
   "metadata": {},
   "outputs": [],
   "source": [
    "def date_to_datetime(paper, date):\n",
    "    if paper == 'The Moscow Times':\n",
    "        return datetime.strptime(date, '%A, %B %d, %Y')\n",
    "    elif paper == 'The Guardian':\n",
    "        return datetime.strptime(date, '%A, %d.%m.%y')\n",
    "    elif paper == 'Daily News':\n",
    "        return datetime.strptime(date, '%A, %d %B %Y')\n",
    "    else:\n",
    "        return 'Неизвестное издание'\n"
   ]
  },
  {
   "cell_type": "code",
   "execution_count": 63,
   "metadata": {},
   "outputs": [
    {
     "name": "stdout",
     "output_type": "stream",
     "text": [
      "Введите газету и дату: The Guardian - Friday, 11.10.13\n",
      "2013-10-11 00:00:00\n"
     ]
    }
   ],
   "source": [
    "data = str(input('Введите газету и дату: ')).split(' - ')\n",
    "if len(data) == 2:\n",
    "    print(date_to_datetime(data[0], data[1]))\n",
    "else:\n",
    "    print('Неверный формат ввода')\n"
   ]
  },
  {
   "cell_type": "markdown",
   "metadata": {},
   "source": [
    "##### Понятно, что можно сделать и без пользовательского ввода, и с большим количеством проверок, и через лист. При необходимост изменения подхода к заданию 1 просьба уточнить формулировку."
   ]
  },
  {
   "cell_type": "markdown",
   "metadata": {},
   "source": [
    "### Задание 2"
   ]
  },
  {
   "cell_type": "markdown",
   "metadata": {},
   "source": [
    "Дан поток дат в формате YYYY-MM-DD, в которых встречаются некорректные значения.\n",
    "\n",
    "Напишите функцию, которая проверяет эти даты на корректность. Т. е. для каждой даты возвращает True (дата корректна) или False (некорректная дата)."
   ]
  },
  {
   "cell_type": "code",
   "execution_count": 64,
   "metadata": {},
   "outputs": [],
   "source": [
    "stream = ['2018-04-02', '2018-02-29', '2018-19-02']"
   ]
  },
  {
   "cell_type": "code",
   "execution_count": 65,
   "metadata": {},
   "outputs": [],
   "source": [
    "from datetime import datetime"
   ]
  },
  {
   "cell_type": "code",
   "execution_count": 66,
   "metadata": {},
   "outputs": [
    {
     "name": "stdout",
     "output_type": "stream",
     "text": [
      "Дата корректна\n",
      "Дата некорректна\n",
      "Дата некорректна\n"
     ]
    }
   ],
   "source": [
    "for date in stream:\n",
    "    try:\n",
    "        datetime.strptime(date, '%Y-%m-%d')\n",
    "        print('Дата корректна')\n",
    "    except:\n",
    "        print('Дата некорректна')\n"
   ]
  },
  {
   "cell_type": "markdown",
   "metadata": {},
   "source": [
    "### Задание 3"
   ]
  },
  {
   "cell_type": "markdown",
   "metadata": {},
   "source": [
    "Напишите функцию date_range, которая возвращает список дат за период от start_date до end_date. Даты должны вводиться в формате YYYY-MM-DD. В случае неверного формата или при start_date > end_date должен возвращаться пустой список."
   ]
  },
  {
   "cell_type": "code",
   "execution_count": 67,
   "metadata": {},
   "outputs": [],
   "source": [
    "from datetime import datetime\n",
    "from datetime import timedelta"
   ]
  },
  {
   "cell_type": "code",
   "execution_count": 68,
   "metadata": {},
   "outputs": [],
   "source": [
    "def date_range(start_date, end_date):\n",
    "    try:\n",
    "        start_date_ = datetime.strptime(start_date, '%Y-%m-%d')\n",
    "        end_date_ = datetime.strptime(end_date, '%Y-%m-%d')\n",
    "        if start_date > end_date:\n",
    "            return None\n",
    "        else:\n",
    "            current_date_ = start_date_\n",
    "            while current_date_ <= end_date_:\n",
    "                print(current_date_)\n",
    "                current_date_ += timedelta(days=1)\n",
    "    except:\n",
    "        return None\n"
   ]
  },
  {
   "cell_type": "code",
   "execution_count": 69,
   "metadata": {},
   "outputs": [
    {
     "name": "stdout",
     "output_type": "stream",
     "text": [
      "2018-02-28 00:00:00\n",
      "2018-03-01 00:00:00\n",
      "2018-03-02 00:00:00\n",
      "2018-03-03 00:00:00\n",
      "2018-03-04 00:00:00\n",
      "2018-03-05 00:00:00\n",
      "2018-03-06 00:00:00\n",
      "2018-03-07 00:00:00\n",
      "2018-03-08 00:00:00\n",
      "2018-03-09 00:00:00\n",
      "2018-03-10 00:00:00\n"
     ]
    }
   ],
   "source": [
    "date_range('2018-02-28', '2018-03-10')"
   ]
  },
  {
   "cell_type": "code",
   "execution_count": null,
   "metadata": {},
   "outputs": [],
   "source": []
  }
 ],
 "metadata": {
  "kernelspec": {
   "display_name": "Python 3",
   "language": "python",
   "name": "python3"
  },
  "language_info": {
   "codemirror_mode": {
    "name": "ipython",
    "version": 3
   },
   "file_extension": ".py",
   "mimetype": "text/x-python",
   "name": "python",
   "nbconvert_exporter": "python",
   "pygments_lexer": "ipython3",
   "version": "3.8.5"
  }
 },
 "nbformat": 4,
 "nbformat_minor": 4
}
