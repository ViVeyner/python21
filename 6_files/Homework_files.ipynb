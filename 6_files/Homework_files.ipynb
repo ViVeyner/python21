{
 "cells": [
  {
   "cell_type": "markdown",
   "metadata": {},
   "source": [
    "### Задание 1.1"
   ]
  },
  {
   "cell_type": "markdown",
   "metadata": {},
   "source": [
    "Переведите содержимое файла purchase_log.txt в словарь purchases вида:\n",
    "{‘1840e0b9d4’: ‘Продукты’, …}"
   ]
  },
  {
   "cell_type": "code",
   "execution_count": 86,
   "metadata": {},
   "outputs": [],
   "source": [
    "import json"
   ]
  },
  {
   "cell_type": "code",
   "execution_count": 87,
   "metadata": {},
   "outputs": [],
   "source": [
    "purchases = {}\n",
    "\n",
    "with open('purchase_log.txt', encoding = 'utf-8') as f:\n",
    "    #f.readline() #пропускаем заголовки при необходимости\n",
    "    for line in f:\n",
    "        load_ = json.loads(line)\n",
    "        purchases[load_['user_id']] = load_['category']\n"
   ]
  },
  {
   "cell_type": "code",
   "execution_count": 88,
   "metadata": {},
   "outputs": [
    {
     "name": "stdout",
     "output_type": "stream",
     "text": [
      "не определена\n"
     ]
    }
   ],
   "source": [
    "print(purchases[\"84a6137053\"])"
   ]
  },
  {
   "cell_type": "markdown",
   "metadata": {},
   "source": [
    "### Задание 1.2"
   ]
  },
  {
   "cell_type": "markdown",
   "metadata": {},
   "source": [
    "Для каждого user_id в файле visit_log.csv определите третий столбец с категорией покупки (если покупка была, сам файл visit_log.csv изменять не надо). Запишите в файл funnel.csv визиты из файла visit_log.csv, в которых были покупки с указанием категории."
   ]
  },
  {
   "cell_type": "code",
   "execution_count": 91,
   "metadata": {},
   "outputs": [],
   "source": [
    "#удаляем из словаря записи, где не определена категория и создаем укороченный новый\n",
    "dict_pur = {key: value for key, value in purchases.items() if value != 'не определена'}\n",
    "\n",
    "with open('visit_log.csv', 'r') as re:\n",
    "    with open('funnel.csv', 'w') as wr:\n",
    "        #re.readline() #пропускаем заголовки если не нужны в итоговом файле\n",
    "        for line in re:\n",
    "            if line.strip().split(',')[0] in purchases.keys():\n",
    "                wr.write(line.strip().split(',')[0] + ',' \n",
    "                         + line.strip().split(',')[1] + ',' \n",
    "                         + purchases[line.strip().split(',')[0]] + '\\n')\n"
   ]
  },
  {
   "cell_type": "code",
   "execution_count": null,
   "metadata": {},
   "outputs": [],
   "source": []
  }
 ],
 "metadata": {
  "kernelspec": {
   "display_name": "Python 3",
   "language": "python",
   "name": "python3"
  },
  "language_info": {
   "codemirror_mode": {
    "name": "ipython",
    "version": 3
   },
   "file_extension": ".py",
   "mimetype": "text/x-python",
   "name": "python",
   "nbconvert_exporter": "python",
   "pygments_lexer": "ipython3",
   "version": "3.8.5"
  }
 },
 "nbformat": 4,
 "nbformat_minor": 4
}
